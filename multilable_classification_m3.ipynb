{
 "cells": [
  {
   "cell_type": "code",
   "execution_count": null,
   "metadata": {},
   "outputs": [],
   "source": [
    "# импорт библиотек\n",
    "\n",
    "import numpy as np\n",
    "import pandas as pd\n",
    "import matplotlib.pyplot as plt\n",
    "from sklearn.model_selection import train_test_split\n",
    "from sklearn import metrics\n",
    "import pyarrow.parquet as pq\n",
    "import gc\n",
    "import seaborn as sns\n",
    "from tqdm.notebook import tqdm\n",
    "from catboost import CatBoostClassifier\n",
    "from catboost.utils import eval_metric\n",
    "from catboost import cv\n",
    "from catboost import Pool\n",
    "from sklearn.model_selection import train_test_split\n",
    "from random import sample\n",
    "%matplotlib inline\n",
    "plt.style.use('seaborn')"
   ]
  },
  {
   "attachments": {},
   "cell_type": "markdown",
   "metadata": {},
   "source": [
    "### Загрузка данных"
   ]
  },
  {
   "cell_type": "code",
   "execution_count": null,
   "metadata": {},
   "outputs": [],
   "source": [
    "# загрузка данных y_train\n",
    "\n",
    "y_train = pq.ParquetFile('C:\\\\Hackathon\\\\train\\\\y_train.parquet')\n",
    "y_train = y_train.read_row_group(0)\n",
    "\n",
    "df = []\n",
    "for col in y_train.column_names:\n",
    "    if col == 'DT':\n",
    "        df.append(y_train[col].to_pandas()) \n",
    "    else:\n",
    "        df.append(y_train[col].to_pandas().astype('int8'))\n",
    "\n",
    "target_df = pd.concat(df, axis=1)\n",
    "\n",
    "del y_train\n",
    "del df\n",
    "del col\n",
    "gc.collect()"
   ]
  },
  {
   "cell_type": "code",
   "execution_count": null,
   "metadata": {},
   "outputs": [],
   "source": [
    "target_df.info()"
   ]
  },
  {
   "cell_type": "code",
   "execution_count": null,
   "metadata": {},
   "outputs": [],
   "source": [
    "# загрузка данных X_train\n",
    "\n",
    "X_train = pq.ParquetFile('C:\\\\Hackathon\\\\train\\\\X_train.parquet')\n",
    "X_train = X_train.read_row_group(0)\n",
    "\n",
    "df = []\n",
    "for col in X_train.column_names:\n",
    "    if col == 'DT':\n",
    "        df.append(X_train[col].to_pandas()) \n",
    "    else:\n",
    "        df.append(X_train[col].to_pandas().astype(\"float32\"))\n",
    "\n",
    "train_df = pd.concat(df, axis=1)\n",
    "\n",
    "del X_train\n",
    "del df\n",
    "del col\n",
    "gc.collect()"
   ]
  },
  {
   "cell_type": "code",
   "execution_count": null,
   "metadata": {},
   "outputs": [],
   "source": [
    "train_df.info()"
   ]
  },
  {
   "cell_type": "code",
   "execution_count": 45,
   "metadata": {},
   "outputs": [],
   "source": [
    "# Установим время в качестве индекса\n",
    "target_data = target_df.copy().set_index('DT')\n",
    "train_data = train_df.copy().set_index('DT')\n",
    "\n",
    "# Возьмем отсчеты каждые 30 секунд\n",
    "target_data = target_data.iloc[::3,::]\n",
    "train_data = train_data.iloc[::3,::]"
   ]
  },
  {
   "cell_type": "code",
   "execution_count": 46,
   "metadata": {},
   "outputs": [
    {
     "name": "stdout",
     "output_type": "stream",
     "text": [
      "(3111678, 175)\n",
      "(3111678, 96)\n"
     ]
    }
   ],
   "source": [
    "print(target_data.shape)\n",
    "print(train_data.shape)"
   ]
  },
  {
   "attachments": {},
   "cell_type": "markdown",
   "metadata": {},
   "source": [
    "### Строим классификацию по принципу OneVsAll \n",
    "\n",
    "Для этого сформируем два датасета и обучим два классификатора "
   ]
  },
  {
   "attachments": {},
   "cell_type": "markdown",
   "metadata": {},
   "source": [
    "#### Формирование датасета для классификации М3 ошибки"
   ]
  },
  {
   "cell_type": "code",
   "execution_count": 47,
   "metadata": {},
   "outputs": [],
   "source": [
    "def bar_plots_target (target_df):\n",
    "\n",
    "    \"\"\"Функция построения столючатой диаграммы распределения видов по типам неисправностей\n",
    "\n",
    "    Args:\n",
    "        target_df (DataFrame): таргет датафрейм\n",
    "    \"\"\"\n",
    "    try:\n",
    "        defect_name_list = list(target_df.columns) # Список определяемых дефектов\n",
    "    \n",
    "        # Построение диаграмм\n",
    "        fig, ax = plt.subplots(ncols=3, nrows=round(len(defect_name_list)/3), figsize=(25,len(defect_name_list)))\n",
    "        for i,j in zip(range(round(len(defect_name_list)/3)), range(0,len(defect_name_list),3)):\n",
    "            bar_data = target_df.iloc[:,j].value_counts().reset_index()\n",
    "            sns.barplot(data=bar_data, x=bar_data['index'], y=bar_data.iloc[:,1], ax=ax[i][0]).set(xlabel='defect_type 1 - M1, 2 - M3', ylabel='count', title=defect_name_list[j])\n",
    "            del bar_data\n",
    "\n",
    "            bar_data = target_df.iloc[:,j+1].value_counts().reset_index()\n",
    "            sns.barplot(data=bar_data, x=bar_data['index'], y=bar_data.iloc[:,1], ax=ax[i][1]).set(xlabel='defect_type 1 - M1, 2 - M3', ylabel='count', title=defect_name_list[j+1])\n",
    "            del bar_data\n",
    "\n",
    "            bar_data = target_df.iloc[:,j+2].value_counts().reset_index()\n",
    "            sns.barplot(data=bar_data, x=bar_data['index'], y=bar_data.iloc[:,1], ax=ax[i][2]).set(xlabel='defect_type 1 - M1, 2 - M3', ylabel='count', title=defect_name_list[j+2])\n",
    "            del bar_data\n",
    "\n",
    "        plt.tight_layout()\n",
    "        plt.show()\n",
    "    except IndexError: \n",
    "        print('Количество ячеек больше количества графиков')"
   ]
  },
  {
   "cell_type": "code",
   "execution_count": 48,
   "metadata": {},
   "outputs": [],
   "source": [
    "# Заменить все 1 (М1) на 0 \n",
    "target_data = target_data.replace(1, 0)"
   ]
  },
  {
   "cell_type": "code",
   "execution_count": null,
   "metadata": {},
   "outputs": [],
   "source": [
    "# Построим столбчатые диаграммы распределения видов и типов неисправностей \n",
    "#bar_plots_target(target_data)"
   ]
  },
  {
   "cell_type": "code",
   "execution_count": 49,
   "metadata": {},
   "outputs": [],
   "source": [
    "def del_col_with_only_zero (df):\n",
    "    \"\"\" Удалим таргеты, состоящиет только из нулей\n",
    "\n",
    "    Args:\n",
    "        df (pd.DataFrame()): таргейт датафрейм\n",
    "        \n",
    "    return:\n",
    "        df (pd.DataFrame()): таргет датафрейм без таргетов, состоящих только из нулей\n",
    "    \"\"\"\n",
    "    drop_col_list = []\n",
    "    for col in df.columns.tolist():\n",
    "        if (sum(df[col].value_counts().index) == 0):\n",
    "            drop_col_list.append(col)\n",
    "\n",
    "    df.drop(columns = drop_col_list, axis = 1, inplace = True)\n",
    "    return df"
   ]
  },
  {
   "cell_type": "code",
   "execution_count": 50,
   "metadata": {},
   "outputs": [
    {
     "data": {
      "text/plain": [
       "(3111678, 140)"
      ]
     },
     "execution_count": 50,
     "metadata": {},
     "output_type": "execute_result"
    }
   ],
   "source": [
    "# Удалим в таргете некоторые столбцы \n",
    "target_data = del_col_with_only_zero(target_data)\n",
    "target_data.shape"
   ]
  },
  {
   "cell_type": "code",
   "execution_count": 51,
   "metadata": {},
   "outputs": [],
   "source": [
    "def del_str_with_only_zero(df):\n",
    "    \"\"\"Удалим нблюдения, состоящие только из нулей\n",
    "\n",
    "    Args:\n",
    "        df (pd.DataFrame()): таргейт датафрейм\n",
    "        \n",
    "    return:\n",
    "        df (pd.DataFrame()): таргет датафрейм без наблюдений, состоящих только из нулей\n",
    "    \"\"\"\n",
    "    df = df.replace(0, np.nan)\n",
    "    df = df.dropna(axis = 0, how = 'all')\n",
    "    df = df.fillna(0)\n",
    "    return df\n",
    "    "
   ]
  },
  {
   "cell_type": "code",
   "execution_count": 52,
   "metadata": {},
   "outputs": [
    {
     "data": {
      "text/plain": [
       "(3098880, 140)"
      ]
     },
     "execution_count": 52,
     "metadata": {},
     "output_type": "execute_result"
    }
   ],
   "source": [
    "# Удалим в таргете некоторые строки\n",
    "target_data = del_str_with_only_zero(target_data)\n",
    "target_data.shape"
   ]
  },
  {
   "cell_type": "code",
   "execution_count": 53,
   "metadata": {},
   "outputs": [],
   "source": [
    "def del_col_with_one_target (df):\n",
    "    \"\"\" Удалим таргеты, в который ненулевой класс менее 1%\n",
    "\n",
    "    Args:\n",
    "        df (pd.DataFrame()): таргейт датафрейм\n",
    "        \n",
    "    return:\n",
    "        df (pd.DataFrame()): таргет датафрейм без таргетов, в который ненулевой класс менее 1%\n",
    "    \"\"\"\n",
    "    drop_col_list = []\n",
    "    for col in df.columns.tolist():\n",
    "        if 100 * df[col].value_counts().iloc[1] / df[col].value_counts().iloc[0] < 1:\n",
    "            drop_col_list.append(col)\n",
    "\n",
    "    df.drop(columns = drop_col_list, axis = 1, inplace = True)\n",
    "    return df"
   ]
  },
  {
   "cell_type": "code",
   "execution_count": 54,
   "metadata": {},
   "outputs": [
    {
     "data": {
      "text/plain": [
       "(3098880, 111)"
      ]
     },
     "execution_count": 54,
     "metadata": {},
     "output_type": "execute_result"
    }
   ],
   "source": [
    "# Удалим в таргете некоторые столбцы\n",
    "target_data = del_col_with_one_target(target_data)\n",
    "target_data.shape"
   ]
  },
  {
   "cell_type": "code",
   "execution_count": 55,
   "metadata": {},
   "outputs": [],
   "source": [
    "# Сбросим индексы\n",
    "\n",
    "train_data = train_data.reset_index()\n",
    "target_data = target_data.reset_index()"
   ]
  },
  {
   "cell_type": "code",
   "execution_count": 56,
   "metadata": {},
   "outputs": [
    {
     "data": {
      "text/plain": [
       "(3098880, 208)"
      ]
     },
     "execution_count": 56,
     "metadata": {},
     "output_type": "execute_result"
    }
   ],
   "source": [
    "# Объединим в один датафрейм по времени\n",
    "dataset = train_data.merge(target_data, how = 'inner', on = 'DT')\n",
    "dataset.shape"
   ]
  },
  {
   "cell_type": "code",
   "execution_count": 57,
   "metadata": {},
   "outputs": [],
   "source": [
    "# Разедлим датасет на трейн и таргет\n",
    "train = dataset.iloc[::,1:97]\n",
    "target = dataset.iloc[::,97:]\n",
    "\n",
    "del dataset\n",
    "del train_data\n",
    "del target_data"
   ]
  },
  {
   "cell_type": "code",
   "execution_count": 58,
   "metadata": {},
   "outputs": [],
   "source": [
    "# Заменим целевые знамения для М3 с 2 на 1\n",
    "target = target.replace(2, 1)"
   ]
  },
  {
   "cell_type": "code",
   "execution_count": 59,
   "metadata": {},
   "outputs": [],
   "source": [
    "# Переведем таргет в category\n",
    "for col in target.columns:\n",
    "    target[col] = target[col].astype('category')"
   ]
  },
  {
   "cell_type": "code",
   "execution_count": 60,
   "metadata": {},
   "outputs": [],
   "source": [
    "# Раздели выборки на трейн, тест и валидацию\n",
    "X_train, X_validation, y_train, y_validation = train_test_split(train, target, train_size = 0.8, random_state = 42)\n",
    "X_train, X_test, y_train, y_test = train_test_split(train, target, train_size = 0.8, random_state = 41)\n",
    "\n",
    "del train\n",
    "del target\n",
    "del target_df\n",
    "del train_df"
   ]
  },
  {
   "attachments": {},
   "cell_type": "markdown",
   "metadata": {},
   "source": [
    "#### Обработка трейна"
   ]
  },
  {
   "attachments": {},
   "cell_type": "markdown",
   "metadata": {},
   "source": [
    "Пропуски"
   ]
  },
  {
   "cell_type": "code",
   "execution_count": 61,
   "metadata": {},
   "outputs": [
    {
     "data": {
      "text/plain": [
       "35177006"
      ]
     },
     "execution_count": 61,
     "metadata": {},
     "output_type": "execute_result"
    }
   ],
   "source": [
    "# Количество пропусков в трейне\n",
    "X_train.isna().sum().sum()"
   ]
  },
  {
   "cell_type": "code",
   "execution_count": 62,
   "metadata": {},
   "outputs": [],
   "source": [
    "# Обработаем пропуски, заполнив их следующим или предыдущим значением\n",
    "X_train = X_train.fillna(method='ffill')\n",
    "X_train = X_train.fillna(method='bfill')\n"
   ]
  },
  {
   "cell_type": "code",
   "execution_count": 63,
   "metadata": {},
   "outputs": [
    {
     "data": {
      "text/plain": [
       "0"
      ]
     },
     "execution_count": 63,
     "metadata": {},
     "output_type": "execute_result"
    }
   ],
   "source": [
    "# Количество пропусков в трейне\n",
    "X_train.isna().sum().sum()"
   ]
  },
  {
   "attachments": {},
   "cell_type": "markdown",
   "metadata": {},
   "source": [
    "Мультикорреляция"
   ]
  },
  {
   "cell_type": "code",
   "execution_count": 64,
   "metadata": {},
   "outputs": [],
   "source": [
    "def list_multicorr_features (features_data):\n",
    "    \n",
    "    \"\"\"Возвращает список мультикоррелированных фичей\n",
    "    Args:\n",
    "        features_data (DataFrame): Датафрейм\n",
    "    \"\"\"\n",
    "    # находим корреляционную матрицу\n",
    "    corr_matrix = features_data.corr().abs()\n",
    "\n",
    "    # создаем маску для отбора признаков с корреляцией >0.95\n",
    "    mask = (corr_matrix > 0.95)\n",
    "\n",
    "    # находим список признаков с корреляцией > 0.95\n",
    "    return corr_matrix.columns[mask.any()].tolist()"
   ]
  },
  {
   "cell_type": "code",
   "execution_count": 65,
   "metadata": {},
   "outputs": [
    {
     "name": "stdout",
     "output_type": "stream",
     "text": [
      "['ЭКСГАУСТЕР 4. ТОК РОТОРА 1', 'ЭКСГАУСТЕР 4. ТОК РОТОРА2', 'ЭКСГАУСТЕР 4. ТОК СТАТОРА', 'ЭКСГАУСТЕР 4. ДАВЛЕНИЕ МАСЛА В СИСТЕМЕ', 'ЭКСГАУСТЕР 4. ТЕМПЕРАТУРА ПОДШИПНИКА НА ОПОРЕ 1', 'ЭКСГАУСТЕР 4. ТЕМПЕРАТУРА ПОДШИПНИКА НА ОПОРЕ 2', 'ЭКСГАУСТЕР 4. ТЕМПЕРАТУРА ПОДШИПНИКА НА ОПОРЕ 3', 'ЭКСГАУСТЕР 4. ТЕМПЕРАТУРА ПОДШИПНИКА НА ОПОРЕ 4', 'ЭКСГАУСТЕР 4. ТЕМПЕРАТУРА МАСЛА В СИСТЕМЕ', 'ЭКСГАУСТЕР 4. ТЕМПЕРАТУРА МАСЛА В МАСЛОБЛОКЕ', 'ЭКСГАУСТЕР 4. ВИБРАЦИЯ НА ОПОРЕ 1', 'ЭКСГАУСТЕР 4. ВИБРАЦИЯ НА ОПОРЕ 2', 'ЭКСГАУСТЕР 4. ВИБРАЦИЯ НА ОПОРЕ 3', 'ЭКСГАУСТЕР 4. ВИБРАЦИЯ НА ОПОРЕ 3. ПРОДОЛЬНАЯ.', 'ЭКСГАУСТЕР 4. ВИБРАЦИЯ НА ОПОРЕ 4', 'ЭКСГАУСТЕР 4. ВИБРАЦИЯ НА ОПОРЕ 4. ПРОДОЛЬНАЯ.']\n",
      "['ЭКСГАУСТЕР 5. ТОК РОТОРА 1', 'ЭКСГАУСТЕР 5. ТОК РОТОРА 2', 'ЭКСГАУСТЕР 5. ТОК СТАТОРА', 'ЭКСГАУСТЕР 5. ДАВЛЕНИЕ МАСЛА В СИСТЕМЕ', 'ЭКСГАУСТЕР 5. ТЕМПЕРАТУРА ПОДШИПНИКА НА ОПОРЕ 1', 'ЭКСГАУСТЕР 5. ТЕМПЕРАТУРА ПОДШИПНИКА НА ОПОРЕ 2', 'ЭКСГАУСТЕР 5. ТЕМПЕРАТУРА ПОДШИПНИКА НА ОПОРЕ 3', 'ЭКСГАУСТЕР 5. ТЕМПЕРАТУРА ПОДШИПНИКА НА ОПОРЕ 4', 'ЭКСГАУСТЕР 5. ТЕМПЕРАТУРА МАСЛА В СИСТЕМЕ', 'ЭКСГАУСТЕР 5. ТЕМПЕРАТУРА МАСЛА В МАСЛОБЛОКЕ', 'ЭКСГАУСТЕР 5. ВИБРАЦИЯ НА ОПОРЕ 1', 'ЭКСГАУСТЕР 5. ВИБРАЦИЯ НА ОПОРЕ 2', 'ЭКСГАУСТЕР 5. ВИБРАЦИЯ НА ОПОРЕ 3', 'ЭКСГАУСТЕР 5. ВИБРАЦИЯ НА ОПОРЕ 3. ПРОДОЛЬНАЯ.', 'ЭКСГАУСТЕР 5. ВИБРАЦИЯ НА ОПОРЕ 4', 'ЭКСГАУСТЕР 5. ВИБРАЦИЯ НА ОПОРЕ 4. ПРОДОЛЬНАЯ.']\n",
      "['ЭКСГАУСТЕР 6. ТОК РОТОРА 1', 'ЭКСГАУСТЕР 6. ТОК РОТОРА 2', 'ЭКСГАУСТЕР 6. ТОК СТАТОРА', 'ЭКСГАУСТЕР 6. ДАВЛЕНИЕ МАСЛА В СИСТЕМЕ', 'ЭКСГАУСТЕР 6. ТЕМПЕРАТУРА ПОДШИПНИКА НА ОПОРЕ 1', 'ЭКСГАУСТЕР 6. ТЕМПЕРАТУРА ПОДШИПНИКА НА ОПОРЕ 2', 'ЭКСГАУСТЕР 6. ТЕМПЕРАТУРА ПОДШИПНИКА НА ОПОРЕ 3', 'ЭКСГАУСТЕР 6. ТЕМПЕРАТУРА ПОДШИПНИКА НА ОПОРЕ 4', 'ЭКСГАУСТЕР 6. ТЕМПЕРАТУРА МАСЛА В СИСТЕМЕ', 'ЭКСГАУСТЕР 6. ТЕМПЕРАТУРА МАСЛА В МАСЛОБЛОКЕ', 'ЭКСГАУСТЕР 6. ВИБРАЦИЯ НА ОПОРЕ 1', 'ЭКСГАУСТЕР 6. ВИБРАЦИЯ НА ОПОРЕ 2', 'ЭКСГАУСТЕР 6. ВИБРАЦИЯ НА ОПОРЕ 3', 'ЭКСГАУСТЕР 6. ВИБРАЦИЯ НА ОПОРЕ 3. ПРОДОЛЬНАЯ.', 'ЭКСГАУСТЕР 6. ВИБРАЦИЯ НА ОПОРЕ 4', 'ЭКСГАУСТЕР 6. ВИБРАЦИЯ НА ОПОРЕ 4. ПРОДОЛЬНАЯ.']\n",
      "['ЭКСГАУСТЕР 7. ТОК РОТОРА 1', 'ЭКСГАУСТЕР 7. ТОК РОТОРА 2', 'ЭКСГАУСТЕР 7. ТОК СТАТОРА', 'ЭКСГАУСТЕР 7. ДАВЛЕНИЕ МАСЛА В СИСТЕМЕ', 'ЭКСГАУСТЕР 7. ТЕМПЕРАТУРА ПОДШИПНИКА НА ОПОРЕ 1', 'ЭКСГАУСТЕР 7. ТЕМПЕРАТУРА ПОДШИПНИКА НА ОПОРЕ 2', 'ЭКСГАУСТЕР 7. ТЕМПЕРАТУРА ПОДШИПНИКА НА ОПОРЕ 3', 'ЭКСГАУСТЕР 7. ТЕМПЕРАТУРА ПОДШИПНИКА НА ОПОРЕ 4', 'ЭКСГАУСТЕР 7. ТЕМПЕРАТУРА МАСЛА В СИСТЕМЕ', 'ЭКСГАУСТЕР 7. ТЕМПЕРАТУРА МАСЛА В МАСЛОБЛОКЕ', 'ЭКСГАУСТЕР 7. ВИБРАЦИЯ НА ОПОРЕ 1', 'ЭКСГАУСТЕР 7. ВИБРАЦИЯ НА ОПОРЕ 2', 'ЭКСГАУСТЕР 7. ВИБРАЦИЯ НА ОПОРЕ 3', 'ЭКСГАУСТЕР 7. ВИБРАЦИЯ НА ОПОРЕ 3. ПРОДОЛЬНАЯ.', 'ЭКСГАУСТЕР 7. ВИБРАЦИЯ НА ОПОРЕ 4', 'ЭКСГАУСТЕР 7. ВИБРАЦИЯ НА ОПОРЕ 4. ПРОДОЛЬНАЯ.']\n",
      "['ЭКСГАУСТЕР 8. ТОК РОТОРА 1', 'ЭКСГАУСТЕР 8. ТОК РОТОРА 2', 'ЭКСГАУСТЕР 8. ТОК СТАТОРА', 'ЭКСГАУСТЕР 8. ДАВЛЕНИЕ МАСЛА В СИСТЕМЕ', 'ЭКСГАУСТЕР 8. ТЕМПЕРАТУРА ПОДШИПНИКА НА ОПОРЕ 1', 'ЭКСГАУСТЕР 8. ТЕМПЕРАТУРА ПОДШИПНИКА НА ОПОРЕ 2', 'ЭКСГАУСТЕР 8. ТЕМПЕРАТУРА ПОДШИПНИКА НА ОПОРЕ 3', 'ЭКСГАУСТЕР 8. ТЕМПЕРАТУРА ПОДШИПНИКА НА ОПОРЕ 4', 'ЭКСГАУСТЕР 8. ТЕМПЕРАТУРА МАСЛА В СИСТЕМЕ', 'ЭКСГАУСТЕР 8. ТЕМПЕРАТУРА МАСЛА В МАСЛОБЛОКЕ', 'ЭКСГАУСТЕР 8. ВИБРАЦИЯ НА ОПОРЕ 1', 'ЭКСГАУСТЕР 8. ВИБРАЦИЯ НА ОПОРЕ 2', 'ЭКСГАУСТЕР 8. ВИБРАЦИЯ НА ОПОРЕ 3', 'ЭКСГАУСТЕР 8. ВИБРАЦИЯ НА ОПОРЕ 3. ПРОДОЛЬНАЯ.', 'ЭКСГАУСТЕР 8. ВИБРАЦИЯ НА ОПОРЕ 4', 'ЭКСГАУСТЕР 8. ВИБРАЦИЯ НА ОПОРЕ 4. ПРОДОЛЬНАЯ.']\n",
      "['ЭКСГАУСТЕР 9. ТОК РОТОРА 1', 'ЭКСГАУСТЕР 9. ТОК РОТОРА 2', 'ЭКСГАУСТЕР 9. ТОК СТАТОРА', 'ЭКСГАУСТЕР 9. ДАВЛЕНИЕ МАСЛА В СИСТЕМЕ', 'ЭКСГАУСТЕР 9. ТЕМПЕРАТУРА ПОДШИПНИКА НА ОПОРЕ 1', 'ЭКСГАУСТЕР 9. ТЕМПЕРАТУРА ПОДШИПНИКА НА ОПОРЕ 2', 'ЭКСГАУСТЕР 9. ТЕМПЕРАТУРА ПОДШИПНИКА НА ОПОРЕ 3', 'ЭКСГАУСТЕР 9. ТЕМПЕРАТУРА ПОДШИПНИКА НА ОПОРЕ 4', 'ЭКСГАУСТЕР 9. ТЕМПЕРАТУРА МАСЛА В СИСТЕМЕ', 'ЭКСГАУСТЕР 9. ТЕМПЕРАТУРА МАСЛА В МАСЛОБЛОКЕ', 'ЭКСГАУСТЕР 9. ВИБРАЦИЯ НА ОПОРЕ 1', 'ЭКСГАУСТЕР 9. ВИБРАЦИЯ НА ОПОРЕ 2', 'ЭКСГАУСТЕР 9. ВИБРАЦИЯ НА ОПОРЕ 3', 'ЭКСГАУСТЕР 9. ВИБРАЦИЯ НА ОПОРЕ 3. ПРОДОЛЬНАЯ.', 'ЭКСГАУСТЕР 9. ВИБРАЦИЯ НА ОПОРЕ 4', 'ЭКСГАУСТЕР 9. ВИБРАЦИЯ НА ОПОРЕ 4. ПРОДОЛЬНАЯ.']\n"
     ]
    }
   ],
   "source": [
    "multi_corr_feature_4 = list_multicorr_features(X_train.filter(like = 'ЭКСГАУСТЕР 4'))\n",
    "print(multi_corr_feature_4)\n",
    "\n",
    "multi_corr_feature_5 = list_multicorr_features(X_train.filter(like = 'ЭКСГАУСТЕР 5'))\n",
    "print(multi_corr_feature_5)\n",
    "\n",
    "multi_corr_feature_6 = list_multicorr_features(X_train.filter(like = 'ЭКСГАУСТЕР 6'))\n",
    "print(multi_corr_feature_6)\n",
    "\n",
    "multi_corr_feature_7 = list_multicorr_features(X_train.filter(like = 'ЭКСГАУСТЕР 7'))\n",
    "print(multi_corr_feature_7)\n",
    "\n",
    "multi_corr_feature_8 = list_multicorr_features(X_train.filter(like = 'ЭКСГАУСТЕР 8'))\n",
    "print(multi_corr_feature_8)\n",
    "\n",
    "multi_corr_feature_9 = list_multicorr_features(X_train.filter(like = 'ЭКСГАУСТЕР 9'))\n",
    "print(multi_corr_feature_9)\n"
   ]
  },
  {
   "cell_type": "code",
   "execution_count": 66,
   "metadata": {},
   "outputs": [],
   "source": [
    "# Выберем фичи для удаления\n",
    "multi_corr_feature_4 = ['ЭКСГАУСТЕР 4. ТОК РОТОРА2',\n",
    "                        'ЭКСГАУСТЕР 4. ТОК СТАТОРА', \n",
    "                        'ЭКСГАУСТЕР 4. ТЕМПЕРАТУРА ПОДШИПНИКА НА ОПОРЕ 2', \n",
    "                        'ЭКСГАУСТЕР 4. ТЕМПЕРАТУРА ПОДШИПНИКА НА ОПОРЕ 3', \n",
    "                        'ЭКСГАУСТЕР 4. ТЕМПЕРАТУРА ПОДШИПНИКА НА ОПОРЕ 4',\n",
    "                        'ЭКСГАУСТЕР 4. ТЕМПЕРАТУРА МАСЛА В МАСЛОБЛОКЕ', \n",
    "                         'ЭКСГАУСТЕР 4. ВИБРАЦИЯ НА ОПОРЕ 2', \n",
    "                         'ЭКСГАУСТЕР 4. ВИБРАЦИЯ НА ОПОРЕ 3', \n",
    "                         'ЭКСГАУСТЕР 4. ВИБРАЦИЯ НА ОПОРЕ 3. ПРОДОЛЬНАЯ.', \n",
    "                         'ЭКСГАУСТЕР 4. ВИБРАЦИЯ НА ОПОРЕ 4', \n",
    "                         'ЭКСГАУСТЕР 4. ВИБРАЦИЯ НА ОПОРЕ 4. ПРОДОЛЬНАЯ.'\n",
    "                        \n",
    "]\n",
    "\n",
    "multi_corr_feature_5 = ['ЭКСГАУСТЕР 5. ТОК РОТОРА 2',\n",
    "                        'ЭКСГАУСТЕР 5. ТОК СТАТОРА', \n",
    "                        'ЭКСГАУСТЕР 5. ТЕМПЕРАТУРА ПОДШИПНИКА НА ОПОРЕ 2', \n",
    "                        'ЭКСГАУСТЕР 5. ТЕМПЕРАТУРА ПОДШИПНИКА НА ОПОРЕ 3', \n",
    "                        'ЭКСГАУСТЕР 5. ТЕМПЕРАТУРА ПОДШИПНИКА НА ОПОРЕ 4',\n",
    "                        'ЭКСГАУСТЕР 5. ТЕМПЕРАТУРА МАСЛА В МАСЛОБЛОКЕ', \n",
    "                         'ЭКСГАУСТЕР 5. ВИБРАЦИЯ НА ОПОРЕ 2', \n",
    "                         'ЭКСГАУСТЕР 5. ВИБРАЦИЯ НА ОПОРЕ 3', \n",
    "                         'ЭКСГАУСТЕР 5. ВИБРАЦИЯ НА ОПОРЕ 3. ПРОДОЛЬНАЯ.', \n",
    "                         'ЭКСГАУСТЕР 5. ВИБРАЦИЯ НА ОПОРЕ 4', \n",
    "                         'ЭКСГАУСТЕР 5. ВИБРАЦИЯ НА ОПОРЕ 4. ПРОДОЛЬНАЯ.'\n",
    "                        \n",
    "]\n",
    "\n",
    "multi_corr_feature_6 = ['ЭКСГАУСТЕР 6. ТОК РОТОРА 2',\n",
    "                        'ЭКСГАУСТЕР 6. ТОК СТАТОРА', \n",
    "                        'ЭКСГАУСТЕР 6. ТЕМПЕРАТУРА ПОДШИПНИКА НА ОПОРЕ 2', \n",
    "                        'ЭКСГАУСТЕР 6. ТЕМПЕРАТУРА ПОДШИПНИКА НА ОПОРЕ 3', \n",
    "                        'ЭКСГАУСТЕР 6. ТЕМПЕРАТУРА ПОДШИПНИКА НА ОПОРЕ 4',\n",
    "                        'ЭКСГАУСТЕР 6. ТЕМПЕРАТУРА МАСЛА В МАСЛОБЛОКЕ', \n",
    "                         'ЭКСГАУСТЕР 6. ВИБРАЦИЯ НА ОПОРЕ 2', \n",
    "                         'ЭКСГАУСТЕР 6. ВИБРАЦИЯ НА ОПОРЕ 3', \n",
    "                         'ЭКСГАУСТЕР 6. ВИБРАЦИЯ НА ОПОРЕ 3. ПРОДОЛЬНАЯ.', \n",
    "                         'ЭКСГАУСТЕР 6. ВИБРАЦИЯ НА ОПОРЕ 4', \n",
    "                         'ЭКСГАУСТЕР 6. ВИБРАЦИЯ НА ОПОРЕ 4. ПРОДОЛЬНАЯ.'\n",
    "                        \n",
    "]\n",
    "\n",
    "multi_corr_feature_7 = ['ЭКСГАУСТЕР 7. ТОК РОТОРА 2',\n",
    "                        'ЭКСГАУСТЕР 7. ТОК СТАТОРА', \n",
    "                        'ЭКСГАУСТЕР 7. ТЕМПЕРАТУРА ПОДШИПНИКА НА ОПОРЕ 2', \n",
    "                        'ЭКСГАУСТЕР 7. ТЕМПЕРАТУРА ПОДШИПНИКА НА ОПОРЕ 3', \n",
    "                        'ЭКСГАУСТЕР 7. ТЕМПЕРАТУРА ПОДШИПНИКА НА ОПОРЕ 4',\n",
    "                        'ЭКСГАУСТЕР 7. ТЕМПЕРАТУРА МАСЛА В МАСЛОБЛОКЕ', \n",
    "                         'ЭКСГАУСТЕР 7. ВИБРАЦИЯ НА ОПОРЕ 2', \n",
    "                         'ЭКСГАУСТЕР 7. ВИБРАЦИЯ НА ОПОРЕ 3', \n",
    "                         'ЭКСГАУСТЕР 7. ВИБРАЦИЯ НА ОПОРЕ 3. ПРОДОЛЬНАЯ.', \n",
    "                         'ЭКСГАУСТЕР 7. ВИБРАЦИЯ НА ОПОРЕ 4', \n",
    "                         'ЭКСГАУСТЕР 7. ВИБРАЦИЯ НА ОПОРЕ 4. ПРОДОЛЬНАЯ.'\n",
    "                        \n",
    "]\n",
    "\n",
    "multi_corr_feature_8 = ['ЭКСГАУСТЕР 8. ТОК РОТОРА 2',\n",
    "                        'ЭКСГАУСТЕР 8. ТОК СТАТОРА', \n",
    "                        'ЭКСГАУСТЕР 8. ТЕМПЕРАТУРА ПОДШИПНИКА НА ОПОРЕ 2', \n",
    "                        'ЭКСГАУСТЕР 8. ТЕМПЕРАТУРА ПОДШИПНИКА НА ОПОРЕ 3', \n",
    "                        'ЭКСГАУСТЕР 8. ТЕМПЕРАТУРА ПОДШИПНИКА НА ОПОРЕ 4',\n",
    "                        'ЭКСГАУСТЕР 8. ТЕМПЕРАТУРА МАСЛА В МАСЛОБЛОКЕ', \n",
    "                         'ЭКСГАУСТЕР 8. ВИБРАЦИЯ НА ОПОРЕ 2', \n",
    "                         'ЭКСГАУСТЕР 8. ВИБРАЦИЯ НА ОПОРЕ 3', \n",
    "                         'ЭКСГАУСТЕР 8. ВИБРАЦИЯ НА ОПОРЕ 3. ПРОДОЛЬНАЯ.', \n",
    "                         'ЭКСГАУСТЕР 8. ВИБРАЦИЯ НА ОПОРЕ 4', \n",
    "                         'ЭКСГАУСТЕР 8. ВИБРАЦИЯ НА ОПОРЕ 4. ПРОДОЛЬНАЯ.'\n",
    "                        \n",
    "]\n",
    "\n",
    "multi_corr_feature_9 = ['ЭКСГАУСТЕР 9. ТОК РОТОРА 2',\n",
    "                        'ЭКСГАУСТЕР 9. ТОК СТАТОРА', \n",
    "                        'ЭКСГАУСТЕР 9. ТЕМПЕРАТУРА ПОДШИПНИКА НА ОПОРЕ 2', \n",
    "                        'ЭКСГАУСТЕР 9. ТЕМПЕРАТУРА ПОДШИПНИКА НА ОПОРЕ 3', \n",
    "                        'ЭКСГАУСТЕР 9. ТЕМПЕРАТУРА ПОДШИПНИКА НА ОПОРЕ 4',\n",
    "                        'ЭКСГАУСТЕР 9. ТЕМПЕРАТУРА МАСЛА В МАСЛОБЛОКЕ', \n",
    "                         'ЭКСГАУСТЕР 9. ВИБРАЦИЯ НА ОПОРЕ 2', \n",
    "                         'ЭКСГАУСТЕР 9. ВИБРАЦИЯ НА ОПОРЕ 3', \n",
    "                         'ЭКСГАУСТЕР 9. ВИБРАЦИЯ НА ОПОРЕ 3. ПРОДОЛЬНАЯ.', \n",
    "                         'ЭКСГАУСТЕР 9. ВИБРАЦИЯ НА ОПОРЕ 4', \n",
    "                         'ЭКСГАУСТЕР 9. ВИБРАЦИЯ НА ОПОРЕ 4. ПРОДОЛЬНАЯ.'\n",
    "                        \n",
    "]"
   ]
  },
  {
   "cell_type": "code",
   "execution_count": 67,
   "metadata": {},
   "outputs": [],
   "source": [
    "# Удалим из трейна\n",
    "X_train.drop(columns = multi_corr_feature_4, axis = 1, inplace = True)\n",
    "X_train.drop(columns = multi_corr_feature_5, axis = 1, inplace = True)\n",
    "X_train.drop(columns = multi_corr_feature_6, axis = 1, inplace = True)\n",
    "X_train.drop(columns = multi_corr_feature_7, axis = 1, inplace = True)\n",
    "X_train.drop(columns = multi_corr_feature_8, axis = 1, inplace = True)\n",
    "X_train.drop(columns = multi_corr_feature_9, axis = 1, inplace = True)"
   ]
  },
  {
   "cell_type": "code",
   "execution_count": 68,
   "metadata": {},
   "outputs": [
    {
     "data": {
      "text/plain": [
       "(2479104, 30)"
      ]
     },
     "execution_count": 68,
     "metadata": {},
     "output_type": "execute_result"
    }
   ],
   "source": [
    "X_train.shape"
   ]
  },
  {
   "cell_type": "code",
   "execution_count": 69,
   "metadata": {},
   "outputs": [],
   "source": [
    "# Удалим из валидационного множества\n",
    "X_validation.drop(columns = multi_corr_feature_4, axis = 1, inplace = True)\n",
    "X_validation.drop(columns = multi_corr_feature_5, axis = 1, inplace = True)\n",
    "X_validation.drop(columns = multi_corr_feature_6, axis = 1, inplace = True)\n",
    "X_validation.drop(columns = multi_corr_feature_7, axis = 1, inplace = True)\n",
    "X_validation.drop(columns = multi_corr_feature_8, axis = 1, inplace = True)\n",
    "X_validation.drop(columns = multi_corr_feature_9, axis = 1, inplace = True)"
   ]
  },
  {
   "cell_type": "code",
   "execution_count": 70,
   "metadata": {},
   "outputs": [
    {
     "data": {
      "text/plain": [
       "(619776, 30)"
      ]
     },
     "execution_count": 70,
     "metadata": {},
     "output_type": "execute_result"
    }
   ],
   "source": [
    "X_validation.shape"
   ]
  },
  {
   "attachments": {},
   "cell_type": "markdown",
   "metadata": {},
   "source": [
    "### Построение модели"
   ]
  },
  {
   "cell_type": "code",
   "execution_count": 72,
   "metadata": {},
   "outputs": [
    {
     "name": "stdout",
     "output_type": "stream",
     "text": [
      "0:\tlearn: 0.5426743\ttest: 0.5431736\tbest: 0.5431736 (0)\ttotal: 42s\tremaining: 1h 9m 14s\n",
      "1:\tlearn: 0.4379050\ttest: 0.4379260\tbest: 0.4379260 (1)\ttotal: 1m 56s\tremaining: 1h 35m 22s\n",
      "2:\tlearn: 0.3667408\ttest: 0.3655197\tbest: 0.3655197 (2)\ttotal: 3m 14s\tremaining: 1h 44m 59s\n",
      "3:\tlearn: 0.3139133\ttest: 0.3112730\tbest: 0.3112730 (3)\ttotal: 4m 24s\tremaining: 1h 45m 45s\n",
      "4:\tlearn: 0.2755272\ttest: 0.2725033\tbest: 0.2725033 (4)\ttotal: 6m 47s\tremaining: 2h 8m 56s\n",
      "5:\tlearn: 0.2479478\ttest: 0.2450402\tbest: 0.2450402 (5)\ttotal: 8m 28s\tremaining: 2h 12m 49s\n",
      "6:\tlearn: 0.2263406\ttest: 0.2234025\tbest: 0.2234025 (6)\ttotal: 10m 13s\tremaining: 2h 15m 52s\n",
      "7:\tlearn: 0.2078764\ttest: 0.2045751\tbest: 0.2045751 (7)\ttotal: 11m 53s\tremaining: 2h 16m 45s\n",
      "8:\tlearn: 0.1939873\ttest: 0.1901748\tbest: 0.1901748 (8)\ttotal: 13m 27s\tremaining: 2h 16m 3s\n",
      "9:\tlearn: 0.1834115\ttest: 0.1790338\tbest: 0.1790338 (9)\ttotal: 15m 9s\tremaining: 2h 16m 23s\n",
      "10:\tlearn: 0.1740159\ttest: 0.1694553\tbest: 0.1694553 (10)\ttotal: 16m 45s\tremaining: 2h 15m 35s\n",
      "11:\tlearn: 0.1663727\ttest: 0.1613897\tbest: 0.1613897 (11)\ttotal: 18m 28s\tremaining: 2h 15m 27s\n",
      "12:\tlearn: 0.1600575\ttest: 0.1545276\tbest: 0.1545276 (12)\ttotal: 20m 30s\tremaining: 2h 17m 17s\n",
      "13:\tlearn: 0.1538192\ttest: 0.1479240\tbest: 0.1479240 (13)\ttotal: 22m 13s\tremaining: 2h 16m 31s\n",
      "14:\tlearn: 0.1486879\ttest: 0.1426216\tbest: 0.1426216 (14)\ttotal: 23m 51s\tremaining: 2h 15m 14s\n",
      "15:\tlearn: 0.1434039\ttest: 0.1369417\tbest: 0.1369417 (15)\ttotal: 25m 33s\tremaining: 2h 14m 12s\n",
      "16:\tlearn: 0.1382366\ttest: 0.1314642\tbest: 0.1314642 (16)\ttotal: 27m 9s\tremaining: 2h 12m 36s\n",
      "17:\tlearn: 0.1345080\ttest: 0.1275653\tbest: 0.1275653 (17)\ttotal: 28m 46s\tremaining: 2h 11m 3s\n",
      "18:\tlearn: 0.1302650\ttest: 0.1231610\tbest: 0.1231610 (18)\ttotal: 30m 31s\tremaining: 2h 10m 7s\n",
      "19:\tlearn: 0.1271967\ttest: 0.1195471\tbest: 0.1195471 (19)\ttotal: 32m 5s\tremaining: 2h 8m 22s\n",
      "20:\tlearn: 0.1243688\ttest: 0.1164742\tbest: 0.1164742 (20)\ttotal: 33m 42s\tremaining: 2h 6m 50s\n",
      "21:\tlearn: 0.1210771\ttest: 0.1128364\tbest: 0.1128364 (21)\ttotal: 35m 22s\tremaining: 2h 5m 25s\n",
      "22:\tlearn: 0.1187248\ttest: 0.1105581\tbest: 0.1105581 (22)\ttotal: 36m 55s\tremaining: 2h 3m 35s\n",
      "23:\tlearn: 0.1169166\ttest: 0.1086622\tbest: 0.1086622 (23)\ttotal: 38m 35s\tremaining: 2h 2m 11s\n",
      "24:\tlearn: 0.1144822\ttest: 0.1060606\tbest: 0.1060606 (24)\ttotal: 40m 9s\tremaining: 2h 27s\n",
      "25:\tlearn: 0.1123864\ttest: 0.1038580\tbest: 0.1038580 (25)\ttotal: 41m 48s\tremaining: 1h 58m 59s\n",
      "26:\tlearn: 0.1109096\ttest: 0.1022907\tbest: 0.1022907 (26)\ttotal: 43m 27s\tremaining: 1h 57m 29s\n",
      "27:\tlearn: 0.1089537\ttest: 0.1003796\tbest: 0.1003796 (27)\ttotal: 45m 8s\tremaining: 1h 56m 4s\n",
      "28:\tlearn: 0.1069660\ttest: 0.0982113\tbest: 0.0982113 (28)\ttotal: 46m 51s\tremaining: 1h 54m 43s\n",
      "29:\tlearn: 0.1053292\ttest: 0.0967416\tbest: 0.0967416 (29)\ttotal: 48m 23s\tremaining: 1h 52m 53s\n",
      "30:\tlearn: 0.1034782\ttest: 0.0949269\tbest: 0.0949269 (30)\ttotal: 50m 2s\tremaining: 1h 51m 22s\n",
      "31:\tlearn: 0.1018034\ttest: 0.0929830\tbest: 0.0929830 (31)\ttotal: 51m 39s\tremaining: 1h 49m 46s\n",
      "32:\tlearn: 0.1001578\ttest: 0.0910774\tbest: 0.0910774 (32)\ttotal: 53m 15s\tremaining: 1h 48m 8s\n",
      "33:\tlearn: 0.0990025\ttest: 0.0898456\tbest: 0.0898456 (33)\ttotal: 54m 54s\tremaining: 1h 46m 35s\n",
      "34:\tlearn: 0.0977408\ttest: 0.0885383\tbest: 0.0885383 (34)\ttotal: 56m 29s\tremaining: 1h 44m 54s\n",
      "35:\tlearn: 0.0961407\ttest: 0.0867634\tbest: 0.0867634 (35)\ttotal: 58m 12s\tremaining: 1h 43m 28s\n",
      "36:\tlearn: 0.0949756\ttest: 0.0853974\tbest: 0.0853974 (36)\ttotal: 59m 49s\tremaining: 1h 41m 52s\n",
      "37:\tlearn: 0.0935633\ttest: 0.0840194\tbest: 0.0840194 (37)\ttotal: 1h 1m 31s\tremaining: 1h 40m 22s\n",
      "38:\tlearn: 0.0925376\ttest: 0.0835192\tbest: 0.0835192 (38)\ttotal: 1h 3m 6s\tremaining: 1h 38m 41s\n",
      "39:\tlearn: 0.0917509\ttest: 0.0828057\tbest: 0.0828057 (39)\ttotal: 1h 4m 43s\tremaining: 1h 37m 5s\n",
      "40:\tlearn: 0.0907117\ttest: 0.0817079\tbest: 0.0817079 (40)\ttotal: 1h 6m 29s\tremaining: 1h 35m 41s\n",
      "41:\tlearn: 0.0898875\ttest: 0.0808690\tbest: 0.0808690 (41)\ttotal: 1h 8m 9s\tremaining: 1h 34m 6s\n",
      "42:\tlearn: 0.0887003\ttest: 0.0795687\tbest: 0.0795687 (42)\ttotal: 1h 9m 50s\tremaining: 1h 32m 34s\n",
      "43:\tlearn: 0.0873503\ttest: 0.0782828\tbest: 0.0782828 (43)\ttotal: 1h 11m 32s\tremaining: 1h 31m 3s\n",
      "44:\tlearn: 0.0864428\ttest: 0.0772004\tbest: 0.0772004 (44)\ttotal: 1h 14m 21s\tremaining: 1h 30m 52s\n",
      "45:\tlearn: 0.0855698\ttest: 0.0763742\tbest: 0.0763742 (45)\ttotal: 1h 16m 17s\tremaining: 1h 29m 33s\n",
      "46:\tlearn: 0.0850620\ttest: 0.0760898\tbest: 0.0760898 (46)\ttotal: 1h 18m 22s\tremaining: 1h 28m 22s\n",
      "47:\tlearn: 0.0839732\ttest: 0.0748080\tbest: 0.0748080 (47)\ttotal: 1h 20m 20s\tremaining: 1h 27m 2s\n",
      "48:\tlearn: 0.0832080\ttest: 0.0747032\tbest: 0.0747032 (48)\ttotal: 1h 22m 28s\tremaining: 1h 25m 50s\n",
      "49:\tlearn: 0.0824308\ttest: 0.0740505\tbest: 0.0740505 (49)\ttotal: 1h 24m 23s\tremaining: 1h 24m 23s\n",
      "50:\tlearn: 0.0816972\ttest: 0.0734655\tbest: 0.0734655 (50)\ttotal: 1h 26m 24s\tremaining: 1h 23m 1s\n",
      "51:\tlearn: 0.0810728\ttest: 0.0727035\tbest: 0.0727035 (51)\ttotal: 1h 28m 27s\tremaining: 1h 21m 39s\n",
      "52:\tlearn: 0.0803356\ttest: 0.0722560\tbest: 0.0722560 (52)\ttotal: 1h 30m 20s\tremaining: 1h 20m 6s\n",
      "53:\tlearn: 0.0795206\ttest: 0.0712655\tbest: 0.0712655 (53)\ttotal: 1h 32m 36s\tremaining: 1h 18m 53s\n",
      "54:\tlearn: 0.0789665\ttest: 0.0706248\tbest: 0.0706248 (54)\ttotal: 1h 35m 11s\tremaining: 1h 17m 53s\n",
      "55:\tlearn: 0.0783875\ttest: 0.0698783\tbest: 0.0698783 (55)\ttotal: 1h 37m 17s\tremaining: 1h 16m 26s\n",
      "56:\tlearn: 0.0778526\ttest: 0.0693973\tbest: 0.0693973 (56)\ttotal: 1h 39m 16s\tremaining: 1h 14m 53s\n",
      "57:\tlearn: 0.0772577\ttest: 0.0687801\tbest: 0.0687801 (57)\ttotal: 1h 41m 23s\tremaining: 1h 13m 25s\n",
      "58:\tlearn: 0.0767853\ttest: 0.0688431\tbest: 0.0687801 (57)\ttotal: 1h 43m 24s\tremaining: 1h 11m 51s\n",
      "59:\tlearn: 0.0763766\ttest: 0.0684701\tbest: 0.0684701 (59)\ttotal: 1h 45m 35s\tremaining: 1h 10m 23s\n",
      "60:\tlearn: 0.0757471\ttest: 0.0677727\tbest: 0.0677727 (60)\ttotal: 1h 47m 46s\tremaining: 1h 8m 54s\n",
      "61:\tlearn: 0.0752322\ttest: 0.0673932\tbest: 0.0673932 (61)\ttotal: 1h 49m 56s\tremaining: 1h 7m 22s\n",
      "62:\tlearn: 0.0747311\ttest: 0.0669562\tbest: 0.0669562 (62)\ttotal: 1h 51m 57s\tremaining: 1h 5m 45s\n",
      "63:\tlearn: 0.0742541\ttest: 0.0666190\tbest: 0.0666190 (63)\ttotal: 1h 54m 5s\tremaining: 1h 4m 10s\n",
      "64:\tlearn: 0.0737217\ttest: 0.0659469\tbest: 0.0659469 (64)\ttotal: 1h 56m 8s\tremaining: 1h 2m 32s\n",
      "65:\tlearn: 0.0733411\ttest: 0.0654605\tbest: 0.0654605 (65)\ttotal: 1h 58m 19s\tremaining: 1h 57s\n",
      "66:\tlearn: 0.0729723\ttest: 0.0652960\tbest: 0.0652960 (66)\ttotal: 2h 20s\tremaining: 59m 16s\n",
      "67:\tlearn: 0.0724979\ttest: 0.0647799\tbest: 0.0647799 (67)\ttotal: 2h 2m 51s\tremaining: 57m 49s\n",
      "68:\tlearn: 0.0720486\ttest: 0.0644083\tbest: 0.0644083 (68)\ttotal: 2h 4m 58s\tremaining: 56m 8s\n",
      "69:\tlearn: 0.0717526\ttest: 0.0644539\tbest: 0.0644083 (68)\ttotal: 2h 7m 9s\tremaining: 54m 29s\n",
      "70:\tlearn: 0.0712924\ttest: 0.0655416\tbest: 0.0644083 (68)\ttotal: 2h 9m 11s\tremaining: 52m 46s\n",
      "71:\tlearn: 0.0708947\ttest: 0.0651789\tbest: 0.0644083 (68)\ttotal: 2h 11m 40s\tremaining: 51m 12s\n",
      "72:\tlearn: 0.0705637\ttest: 0.0648124\tbest: 0.0644083 (68)\ttotal: 2h 13m 43s\tremaining: 49m 27s\n",
      "73:\tlearn: 0.0701171\ttest: 0.0643599\tbest: 0.0643599 (73)\ttotal: 2h 16m\tremaining: 47m 47s\n",
      "74:\tlearn: 0.0698174\ttest: 0.0640392\tbest: 0.0640392 (74)\ttotal: 2h 18m 28s\tremaining: 46m 9s\n",
      "75:\tlearn: 0.0694808\ttest: 0.0636945\tbest: 0.0636945 (75)\ttotal: 2h 20m 42s\tremaining: 44m 26s\n",
      "76:\tlearn: 0.0692386\ttest: 0.0636144\tbest: 0.0636144 (76)\ttotal: 2h 22m 39s\tremaining: 42m 36s\n",
      "77:\tlearn: 0.0688762\ttest: 0.0633430\tbest: 0.0633430 (77)\ttotal: 2h 24m 53s\tremaining: 40m 51s\n",
      "78:\tlearn: 0.0686015\ttest: 0.0630307\tbest: 0.0630307 (78)\ttotal: 2h 26m 54s\tremaining: 39m 3s\n",
      "79:\tlearn: 0.0683624\ttest: 0.0627323\tbest: 0.0627323 (79)\ttotal: 2h 29m 16s\tremaining: 37m 19s\n",
      "80:\tlearn: 0.0681142\ttest: 0.0625680\tbest: 0.0625680 (80)\ttotal: 2h 31m 21s\tremaining: 35m 30s\n",
      "81:\tlearn: 0.0678014\ttest: 0.0622267\tbest: 0.0622267 (81)\ttotal: 2h 34m\tremaining: 33m 48s\n",
      "82:\tlearn: 0.0674532\ttest: 0.0622171\tbest: 0.0622171 (82)\ttotal: 2h 36m 17s\tremaining: 32m\n",
      "83:\tlearn: 0.0671661\ttest: 0.0620060\tbest: 0.0620060 (83)\ttotal: 2h 38m 35s\tremaining: 30m 12s\n",
      "84:\tlearn: 0.0669288\ttest: 0.0619493\tbest: 0.0619493 (84)\ttotal: 2h 40m 49s\tremaining: 28m 22s\n",
      "85:\tlearn: 0.0667190\ttest: 0.0616597\tbest: 0.0616597 (85)\ttotal: 2h 43m 17s\tremaining: 26m 34s\n",
      "86:\tlearn: 0.0662951\ttest: 0.0610694\tbest: 0.0610694 (86)\ttotal: 2h 45m 31s\tremaining: 24m 43s\n",
      "87:\tlearn: 0.0660687\ttest: 0.0607169\tbest: 0.0607169 (87)\ttotal: 2h 52m 36s\tremaining: 23m 32s\n",
      "88:\tlearn: 0.0658250\ttest: 0.0604559\tbest: 0.0604559 (88)\ttotal: 2h 55m 51s\tremaining: 21m 44s\n",
      "89:\tlearn: 0.0656345\ttest: 0.0610881\tbest: 0.0604559 (88)\ttotal: 2h 58m 16s\tremaining: 19m 48s\n",
      "90:\tlearn: 0.0653685\ttest: 0.0607397\tbest: 0.0604559 (88)\ttotal: 3h 34s\tremaining: 17m 51s\n",
      "91:\tlearn: 0.0650574\ttest: 0.0603736\tbest: 0.0603736 (91)\ttotal: 3h 3m 23s\tremaining: 15m 56s\n",
      "92:\tlearn: 0.0648325\ttest: 0.0601110\tbest: 0.0601110 (92)\ttotal: 3h 7m 14s\tremaining: 14m 5s\n",
      "93:\tlearn: 0.0645941\ttest: 0.0597558\tbest: 0.0597558 (93)\ttotal: 3h 9m 35s\tremaining: 12m 6s\n",
      "94:\tlearn: 0.0643769\ttest: 0.0597430\tbest: 0.0597430 (94)\ttotal: 3h 11m 59s\tremaining: 10m 6s\n",
      "95:\tlearn: 0.0641136\ttest: 0.0594924\tbest: 0.0594924 (95)\ttotal: 3h 14m 16s\tremaining: 8m 5s\n",
      "96:\tlearn: 0.0638796\ttest: 0.0591994\tbest: 0.0591994 (96)\ttotal: 3h 16m 38s\tremaining: 6m 4s\n",
      "97:\tlearn: 0.0637169\ttest: 0.0590255\tbest: 0.0590255 (97)\ttotal: 3h 18m 50s\tremaining: 4m 3s\n",
      "98:\tlearn: 0.0635101\ttest: 0.0602165\tbest: 0.0590255 (97)\ttotal: 3h 21m 11s\tremaining: 2m 1s\n",
      "99:\tlearn: 0.0633311\ttest: 0.0599847\tbest: 0.0590255 (97)\ttotal: 3h 23m 26s\tremaining: 0us\n",
      "\n",
      "bestTest = 0.05902549473\n",
      "bestIteration = 97\n",
      "\n",
      "Shrink model to first 98 iterations.\n"
     ]
    },
    {
     "data": {
      "text/plain": [
       "<catboost.core.CatBoostClassifier at 0x22ab083af40>"
      ]
     },
     "execution_count": 72,
     "metadata": {},
     "output_type": "execute_result"
    }
   ],
   "source": [
    "model_defect_M3 = CatBoostClassifier(\n",
    "    iterations=100,\n",
    "    learning_rate=0.1,\n",
    "    random_seed=35,\n",
    "    save_snapshot = True,\n",
    "    snapshot_file = 'model_defect_2.bkp',\n",
    "    snapshot_interval = 60,\n",
    "    boosting_type = 'Plain',\n",
    "    bootstrap_type='Bernoulli',\n",
    "    subsample=0.5,\n",
    "    loss_function='MultiLogloss',\n",
    "    custom_metric='F1',\n",
    "    rsm = 0.5,\n",
    "    leaf_estimation_iterations=5,\n",
    "    max_ctr_complexity=1,\n",
    "    early_stopping_rounds = 10       \n",
    ")\n",
    "\n",
    "\n",
    "\n",
    "\n",
    "model_defect_M3.fit(\n",
    "    X_train,\n",
    "    y_train,\n",
    "    verbose = True,\n",
    "    use_best_model = True,\n",
    "    eval_set = (X_validation, y_validation)\n",
    ")"
   ]
  },
  {
   "cell_type": "code",
   "execution_count": 73,
   "metadata": {},
   "outputs": [],
   "source": [
    "y_pred = model_defect_M3.predict(X_test)"
   ]
  },
  {
   "cell_type": "code",
   "execution_count": 78,
   "metadata": {},
   "outputs": [],
   "source": [
    "#Сохранение модели\n",
    "model_defect_M3.save_model('model_detect_defect.bin')\n",
    "model_defect_M3.save_model('model_detect_defect.json', format = 'json')"
   ]
  },
  {
   "cell_type": "code",
   "execution_count": 77,
   "metadata": {},
   "outputs": [
    {
     "name": "stdout",
     "output_type": "stream",
     "text": [
      "Среднее значение метрики Precision -  0.9802759348371249\n",
      "Среднее значение метрики Recall -  0.9620876753377553\n",
      "Среднее значение метрики F1 -  0.9704608966080792\n"
     ]
    }
   ],
   "source": [
    "# 'Precision'\n",
    "precision_dict = {}\n",
    "values = eval_metric(y_test.values, y_pred, 'Precision')\n",
    "for cls, value in zip(model_defect_M3.classes_, values):\n",
    "    precision_dict[cls] = value\n",
    "\n",
    "#'Recall'\n",
    "recall_dict = {}\n",
    "values = eval_metric(y_test.values, y_pred, 'Recall')\n",
    "for cls, value in zip(model_defect_M3.classes_, values):\n",
    "    recall_dict[cls] = value\n",
    "\n",
    "#'F1'\n",
    "f1_dict = {}\n",
    "values = eval_metric(y_test.values, y_pred, 'F1')\n",
    "for cls, value in zip(model_defect_M3.classes_, values):\n",
    "    f1_dict[cls] = value\n",
    "\n",
    "\n",
    "# Посчитаем среднее значение метрик по всем таргетам\n",
    "print(f'Среднее значение метрики Precision -  {np.mean(list(precision_dict.values()))}')\n",
    "print(f'Среднее значение метрики Recall -  {np.mean(list(recall_dict.values()))}')\n",
    "print(f'Среднее значение метрики F1 -  {np.mean(list(f1_dict.values()))}')"
   ]
  }
 ],
 "metadata": {
  "kernelspec": {
   "display_name": "LI",
   "language": "python",
   "name": "python3"
  },
  "language_info": {
   "codemirror_mode": {
    "name": "ipython",
    "version": 3
   },
   "file_extension": ".py",
   "mimetype": "text/x-python",
   "name": "python",
   "nbconvert_exporter": "python",
   "pygments_lexer": "ipython3",
   "version": "3.9.16"
  },
  "orig_nbformat": 4
 },
 "nbformat": 4,
 "nbformat_minor": 2
}
